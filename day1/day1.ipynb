{
 "cells": [
  {
   "cell_type": "code",
   "execution_count": 2,
   "metadata": {},
   "outputs": [],
   "source": [
    "import numpy as np\n",
    "import pandas as pd"
   ]
  },
  {
   "cell_type": "code",
   "execution_count": null,
   "metadata": {},
   "outputs": [],
   "source": [
    "with open('day1-input.txt', 'r') as f:\n",
    "  x = []\n",
    "  y = []\n",
    "  for line in f:\n",
    "    row = line.split()\n",
    "    x.append(int(row[0]))\n",
    "    y.append(int(row[1]))\n",
    "\n",
    "\n",
    "x = sorted(x)\n",
    "y = sorted(y)\n",
    "\n",
    "diffs = [abs(x-y) for x,y in zip(x,y)]\n",
    "\n",
    "num_dict = {key:0 for key in x}\n",
    "\n",
    "for val in y:\n",
    "  if val in num_dict.keys():\n",
    "    num_dict[val] += 1\n",
    "\n",
    "sim_score = 0\n",
    "for key,value in num_dict.items():\n",
    "  sim_score += (key*value)"
   ]
  }
 ],
 "metadata": {
  "kernelspec": {
   "display_name": "base",
   "language": "python",
   "name": "python3"
  },
  "language_info": {
   "codemirror_mode": {
    "name": "ipython",
    "version": 3
   },
   "file_extension": ".py",
   "mimetype": "text/x-python",
   "name": "python",
   "nbconvert_exporter": "python",
   "pygments_lexer": "ipython3",
   "version": "3.9.7"
  }
 },
 "nbformat": 4,
 "nbformat_minor": 2
}
