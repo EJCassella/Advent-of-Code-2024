{
 "cells": [
  {
   "cell_type": "code",
   "execution_count": 1,
   "metadata": {},
   "outputs": [],
   "source": [
    "import pandas as pd\n",
    "import numpy as np"
   ]
  },
  {
   "cell_type": "code",
   "execution_count": null,
   "metadata": {},
   "outputs": [],
   "source": [
    "with open('input.txt', 'r') as file:\n",
    "  data = []\n",
    "  for line in file:\n",
    "    x = [int(num) for num in line.split()]\n",
    "    data.append(x)"
   ]
  },
  {
   "cell_type": "code",
   "execution_count": 254,
   "metadata": {},
   "outputs": [],
   "source": [
    "def check_safe_level(level):\n",
    "  if all(i<j for i,j in zip(level, level[1:])) | all(i>j for i,j in zip(level, level[1:])):\n",
    "    if all(abs(i-j)>=1 for i,j in zip(level, level[1:])) & all(abs(i-j)<=3 for i,j in zip(level, level[1:])):\n",
    "      return 1\n",
    "    else:\n",
    "      return 0\n",
    "  else:\n",
    "    return 0"
   ]
  },
  {
   "cell_type": "code",
   "execution_count": 257,
   "metadata": {},
   "outputs": [
    {
     "name": "stdout",
     "output_type": "stream",
     "text": [
      "479\n"
     ]
    }
   ],
   "source": [
    "safe_count = 0\n",
    "for level in data:\n",
    "  safe_count += check_safe_level(level)\n",
    "\n",
    "print(safe_count)\n"
   ]
  },
  {
   "cell_type": "code",
   "execution_count": 302,
   "metadata": {},
   "outputs": [],
   "source": [
    "safe_count = 0\n",
    "\n",
    "for level in data:\n",
    "  safe = bool(check_safe_level(level))\n",
    "  safe_count += safe\n",
    "  if not safe:\n",
    "    for i in range(len(level)): \n",
    "      if not safe:  \n",
    "        new_level = level[:]\n",
    "        new_level.pop(i)\n",
    "        safe = bool(check_safe_level(new_level))\n",
    "    safe_count += safe\n",
    "  \n",
    "\n",
    "\n"
   ]
  }
 ],
 "metadata": {
  "kernelspec": {
   "display_name": "base",
   "language": "python",
   "name": "python3"
  },
  "language_info": {
   "codemirror_mode": {
    "name": "ipython",
    "version": 3
   },
   "file_extension": ".py",
   "mimetype": "text/x-python",
   "name": "python",
   "nbconvert_exporter": "python",
   "pygments_lexer": "ipython3",
   "version": "3.9.7"
  }
 },
 "nbformat": 4,
 "nbformat_minor": 2
}
