{
 "cells": [
  {
   "cell_type": "code",
   "execution_count": 4,
   "metadata": {},
   "outputs": [
    {
     "name": "stdout",
     "output_type": "stream",
     "text": [
      "\n",
      "Caching the list of root modules, please wait!\n",
      "(This will only be done once - type '%rehashx' to reset cache!)\n",
      "\n"
     ]
    }
   ],
   "source": [
    "import pandas as pd\n",
    "import numpy as np\n",
    "import re"
   ]
  },
  {
   "cell_type": "code",
   "execution_count": 2,
   "metadata": {},
   "outputs": [],
   "source": [
    "with open('input.txt', 'r') as file:\n",
    "  string = file.read().replace('\\n','')"
   ]
  },
  {
   "cell_type": "code",
   "execution_count": 39,
   "metadata": {},
   "outputs": [],
   "source": [
    "real_mul_regex = 'mul\\\\(\\d{1,3},\\d{1,3}\\\\)'\n",
    "real_muls = [x for x in re.findall(real_mul_regex, string)]"
   ]
  },
  {
   "cell_type": "code",
   "execution_count": null,
   "metadata": {},
   "outputs": [],
   "source": [
    "def strip_and_mul(mul):\n",
    "  num1 = mul.strip('mul').strip('()').split(',')[0]\n",
    "  num2 = mul.strip('mul').strip('()').split(',')[1]\n",
    "  return int(num1) * int(num2)\n",
    "\n",
    "total = 0\n",
    "for mul in real_muls:\n",
    "  total += strip_and_mul(mul)\n"
   ]
  },
  {
   "cell_type": "code",
   "execution_count": null,
   "metadata": {},
   "outputs": [],
   "source": []
  },
  {
   "cell_type": "code",
   "execution_count": 40,
   "metadata": {},
   "outputs": [],
   "source": [
    "real_mul_ex = 'mul\\\\(\\d{1,3},\\d{1,3}\\\\)|do\\\\(\\\\)|don\\'t\\\\(\\\\)'\n",
    "real_muls = re.findall(real_mul_ex, string)"
   ]
  },
  {
   "cell_type": "code",
   "execution_count": null,
   "metadata": {},
   "outputs": [],
   "source": [
    "to_do = []\n",
    "enabled=True\n",
    "while enabled:   \n",
    "  for x in real_muls:\n",
    "    if x == 'do()':\n",
    "      enabled = True\n",
    "    if x == 'don\\'t()':\n",
    "      enabled = False\n",
    "    if (enabled == True) & (x != 'do()'):\n",
    "      to_do.append(x)\n",
    "\n",
    "total = 0\n",
    "for mul in to_do:\n",
    "  total += strip_and_mul(mul)\n",
    "print(total)"
   ]
  },
  {
   "cell_type": "code",
   "execution_count": null,
   "metadata": {},
   "outputs": [],
   "source": []
  },
  {
   "cell_type": "code",
   "execution_count": null,
   "metadata": {},
   "outputs": [],
   "source": []
  }
 ],
 "metadata": {
  "kernelspec": {
   "display_name": "base",
   "language": "python",
   "name": "python3"
  },
  "language_info": {
   "codemirror_mode": {
    "name": "ipython",
    "version": 3
   },
   "file_extension": ".py",
   "mimetype": "text/x-python",
   "name": "python",
   "nbconvert_exporter": "python",
   "pygments_lexer": "ipython3",
   "version": "3.9.7"
  }
 },
 "nbformat": 4,
 "nbformat_minor": 2
}
